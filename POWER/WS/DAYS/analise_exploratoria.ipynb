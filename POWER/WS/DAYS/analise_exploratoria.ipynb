{
 "cells": [
  {
   "cell_type": "markdown",
   "id": "header",
   "metadata": {},
   "source": [
    "# AED - Análise Exploratória de Dados WS (Wind Speed - Velocidade do Vento) - Diário"
   ]
  },
  {
   "cell_type": "markdown",
   "id": "imports",
   "metadata": {},
   "source": [
    "## 1. Imports e Carregamento de Dados"
   ]
  },
  {
   "cell_type": "code",
   "execution_count": null,
   "id": "imports-cell",
   "metadata": {},
   "outputs": [],
   "source": [
    "import pandas as pd\n",
    "import numpy as np\n",
    "import matplotlib.pyplot as plt\n",
    "from statsmodels.tsa.seasonal import STL\n",
    "from statsmodels.tsa.stattools import adfuller\n",
    "from statsmodels.graphics.tsaplots import plot_acf, plot_pacf"
   ]
  },
  {
   "cell_type": "code",
   "execution_count": null,
   "id": "load-data",
   "metadata": {},
   "outputs": [],
   "source": [
    "csv_path = \"ws_days.csv\"\n",
    "\n",
    "df = pd.read_csv(csv_path, dtype={\"date\": str})\n",
    "df[\"date\"] = pd.to_datetime(df[\"date\"], format=\"%Y%m%d\")\n",
    "df = df.rename(columns={\"ws2m_mean\": \"ws\"})\n",
    "df = df.set_index(\"date\").sort_index()"
   ]
  },
  {
   "cell_type": "markdown",
   "id": "reindex-section",
   "metadata": {},
   "source": [
    "## 2. Preparação - Índice Contínuo e Interpolação"
   ]
  },
  {
   "cell_type": "code",
   "execution_count": null,
   "id": "reindex",
   "metadata": {},
   "outputs": [],
   "source": [
    "full_idx = pd.date_range(df.index.min(), df.index.max(), freq=\"D\")\n",
    "df = df.reindex(full_idx)\n",
    "# Interpolação linear para possíveis buracos\n",
    "df[\"ws\"] = df[\"ws\"].interpolate(limit_direction=\"both\")"
   ]
  },
  {
   "cell_type": "markdown",
   "id": "stats-section",
   "metadata": {},
   "source": [
    "## 3. Estatísticas Descritivas"
   ]
  },
  {
   "cell_type": "code",
   "execution_count": null,
   "id": "stats",
   "metadata": {},
   "outputs": [],
   "source": [
    "print(\"Resumo estatístico:\")\n",
    "print(df[\"ws\"].describe(), \"\\n\")"
   ]
  },
  {
   "cell_type": "markdown",
   "id": "quality-section",
   "metadata": {},
   "source": [
    "## 4. Verificação de Qualidade dos Dados"
   ]
  },
  {
   "cell_type": "code",
   "execution_count": null,
   "id": "quality",
   "metadata": {},
   "outputs": [],
   "source": [
    "missing = df[\"ws\"].isna().sum()\n",
    "print(f\"Valores faltantes após interpolação: {missing}\")"
   ]
  },
  {
   "cell_type": "markdown",
   "id": "viz-section",
   "metadata": {},
   "source": [
    "## 5. Visualizações Básicas"
   ]
  },
  {
   "cell_type": "code",
   "execution_count": null,
   "id": "viz",
   "metadata": {},
   "outputs": [],
   "source": [
    "plt.figure(figsize=(10,4))\n",
    "plt.plot(df.index, df[\"ws\"], label=\"WS (m/s)\")\n",
    "plt.plot(df.index, df[\"ws\"].rolling(7, min_periods=1).mean(), label=\"Média móvel 7d\", linewidth=2)\n",
    "plt.title(\"Velocidade do vento média diária (com média móvel 7d)\")\n",
    "plt.xlabel(\"Data\"); plt.ylabel(\"m/s\"); plt.legend()\n",
    "plt.tight_layout()\n",
    "plt.show()"
   ]
  },
  {
   "cell_type": "markdown",
   "id": "weekday-section",
   "metadata": {},
   "source": [
    "## 6. Distribuição por Dia da Semana"
   ]
  },
  {
   "cell_type": "code",
   "execution_count": null,
   "id": "weekday",
   "metadata": {},
   "outputs": [],
   "source": [
    "tmp = df.copy()\n",
    "tmp[\"dow\"] = tmp.index.dayofweek  # 0 = segunda ... 6 = domingo\n",
    "# Para boxplot, montamos os dados por categoria de dow\n",
    "data_by_dow = [tmp.loc[tmp[\"dow\"]==d, \"ws\"].values for d in range(7)]\n",
    "plt.figure(figsize=(8,4))\n",
    "plt.boxplot(data_by_dow, labels=[\"Seg\",\"Ter\",\"Qua\",\"Qui\",\"Sex\",\"Sáb\",\"Dom\"], showmeans=True)\n",
    "plt.title(\"Distribuição por dia da semana (sazonalidade semanal)\")\n",
    "plt.ylabel(\"m/s\")\n",
    "plt.tight_layout()\n",
    "plt.show()"
   ]
  },
  {
   "cell_type": "markdown",
   "id": "stl-section",
   "metadata": {},
   "source": [
    "## 7. Decomposição STL (Semanal)"
   ]
  },
  {
   "cell_type": "code",
   "execution_count": null,
   "id": "stl",
   "metadata": {},
   "outputs": [],
   "source": [
    "stl = STL(df[\"ws\"], period=7, robust=True)\n",
    "res = stl.fit()\n",
    "\n",
    "plt.figure(figsize=(10,8))\n",
    "ax1 = plt.subplot(3,1,1); ax1.plot(res.trend); ax1.set_title(\"Tendência\")\n",
    "ax2 = plt.subplot(3,1,2); ax2.plot(res.seasonal); ax2.set_title(\"Sazonalidade (semanal)\")\n",
    "ax3 = plt.subplot(3,1,3); ax3.plot(res.resid); ax3.set_title(\"Resíduo\")\n",
    "plt.tight_layout()\n",
    "plt.show()"
   ]
  },
  {
   "cell_type": "markdown",
   "id": "stationarity-section",
   "metadata": {},
   "source": [
    "## 8. Testes de Estacionariedade"
   ]
  },
  {
   "cell_type": "code",
   "execution_count": null,
   "id": "stationarity",
   "metadata": {},
   "outputs": [],
   "source": [
    "def adf_report(series, name=\"serie\"):\n",
    "    result = adfuller(series.dropna(), autolag=\"AIC\")\n",
    "    stat, pvalue, usedlag, nobs, crit, icbest = result\n",
    "    print(f\"=== ADF: {name} ===\")\n",
    "    print(f\"Estatística: {stat:.3f} | p-valor: {pvalue:.4f} | lags: {usedlag} | n: {nobs}\")\n",
    "    print(\"Críticos:\", crit, \"\\n\")\n",
    "\n",
    "adf_report(df[\"ws\"], \"WS (original)\")\n",
    "adf_report(res.resid, \"resíduo STL\")"
   ]
  },
  {
   "cell_type": "markdown",
   "id": "acf-section",
   "metadata": {},
   "source": [
    "## 9. ACF e PACF"
   ]
  },
  {
   "cell_type": "code",
   "execution_count": null,
   "id": "acf",
   "metadata": {},
   "outputs": [],
   "source": [
    "lags = min(30, len(df)-2)\n",
    "\n",
    "plt.figure(figsize=(10,4))\n",
    "plot_acf(df[\"ws\"], lags=lags)\n",
    "plt.title(\"ACF - Série original\")\n",
    "plt.tight_layout()\n",
    "plt.show()"
   ]
  },
  {
   "cell_type": "code",
   "execution_count": null,
   "id": "acf-resid",
   "metadata": {},
   "outputs": [],
   "source": [
    "plt.figure(figsize=(10,4))\n",
    "plot_acf(res.resid.dropna(), lags=lags)\n",
    "plt.title(\"ACF - Resíduo STL\")\n",
    "plt.tight_layout()\n",
    "plt.show()"
   ]
  },
  {
   "cell_type": "markdown",
   "id": "outliers-section",
   "metadata": {},
   "source": [
    "## 10. Detecção de Outliers"
   ]
  },
  {
   "cell_type": "code",
   "execution_count": null,
   "id": "outliers",
   "metadata": {},
   "outputs": [],
   "source": [
    "z = (df[\"ws\"] - df[\"ws\"].mean()) / df[\"ws\"].std(ddof=0)\n",
    "outliers = df[np.abs(z) > 3]\n",
    "print(f\"Nº de possíveis outliers (>|3σ|): {len(outliers)}\")\n",
    "if len(outliers):\n",
    "    print(outliers)"
   ]
  },
  {
   "cell_type": "markdown",
   "id": "monthly-section",
   "metadata": {},
   "source": [
    "## 11. Padrões Mensais"
   ]
  },
  {
   "cell_type": "code",
   "execution_count": null,
   "id": "monthly",
   "metadata": {},
   "outputs": [],
   "source": [
    "tmp = df.copy()\n",
    "tmp['month'] = tmp.index.month\n",
    "\n",
    "plt.figure(figsize=(10,3.6))\n",
    "(tmp.groupby('month')['ws'].mean()\n",
    " .rename(index={1:'Jan',2:'Fev',3:'Mar',4:'Abr',5:'Mai',6:'Jun',7:'Jul',8:'Ago',9:'Set',10:'Out',11:'Nov',12:'Dez'})\n",
    " .plot(kind='bar'))\n",
    "plt.title('Velocidade média do vento por mês'); plt.ylabel('m/s'); plt.tight_layout(); plt.show()"
   ]
  }
 ],
 "metadata": {
  "kernelspec": {
   "display_name": "Python 3",
   "language": "python",
   "name": "python3"
  },
  "language_info": {
   "codemirror_mode": {
    "name": "ipython",
    "version": 3
   },
   "file_extension": ".py",
   "mimetype": "text/x-python",
   "name": "python",
   "nbconvert_exporter": "python",
   "pygments_lexer": "ipython3",
   "version": "3.8.0"
  }
 },
 "nbformat": 4,
 "nbformat_minor": 5
}
