{
 "cells": [
  {
   "cell_type": "markdown",
   "id": "header",
   "metadata": {},
   "source": [
    "# AED - Análise Exploratória de Dados WS (Wind Speed - Velocidade do Vento) - Horário"
   ]
  },
  {
   "cell_type": "markdown",
   "id": "load-section",
   "metadata": {},
   "source": [
    "## 1. Carregamento e Preparação dos Dados"
   ]
  },
  {
   "cell_type": "code",
   "execution_count": null,
   "id": "load",
   "metadata": {},
   "outputs": [],
   "source": [
    "import pandas as pd\n",
    "import numpy as np\n",
    "import matplotlib.pyplot as plt\n",
    "\n",
    "df = pd.read_csv(\"ws_hours.csv\", dtype={\"timestamp\": str})\n",
    "# Formato: YYYYMMDDHH\n",
    "df[\"timestamp\"] = pd.to_datetime(df[\"timestamp\"], format=\"%Y%m%d%H\")\n",
    "df = df.set_index(\"timestamp\").sort_index()\n",
    "\n",
    "df.head()"
   ]
  },
  {
   "cell_type": "markdown",
   "id": "viz-basic",
   "metadata": {},
   "source": [
    "## 2. Visualização Temporal"
   ]
  },
  {
   "cell_type": "code",
   "execution_count": null,
   "id": "viz",
   "metadata": {},
   "outputs": [],
   "source": [
    "plt.figure(figsize=(12, 4))\n",
    "plt.plot(df.index, df['ws2m'])\n",
    "plt.title('Velocidade do vento ao longo do tempo')\n",
    "plt.xlabel('Data')\n",
    "plt.ylabel('WS (m/s)')\n",
    "plt.show()"
   ]
  },
  {
   "cell_type": "markdown",
   "id": "stats-section",
   "metadata": {},
   "source": [
    "## 3. Estatísticas Descritivas e Qualidade dos Dados"
   ]
  },
  {
   "cell_type": "code",
   "execution_count": null,
   "id": "stats",
   "metadata": {},
   "outputs": [],
   "source": [
    "print(df['ws2m'].describe())\n",
    "print(\"\\nNulos:\", df.isna().sum())"
   ]
  },
  {
   "cell_type": "markdown",
   "id": "interval-section",
   "metadata": {},
   "source": [
    "## 4. Análise de Intervalos entre Observações"
   ]
  },
  {
   "cell_type": "code",
   "execution_count": null,
   "id": "intervals",
   "metadata": {},
   "outputs": [],
   "source": [
    "intervalos = df.index.to_series().diff().dropna()\n",
    "print(intervalos.value_counts().head())\n",
    "\n",
    "intervalos.dt.total_seconds().plot(kind='hist', bins=20, title='Distribuição dos intervalos entre amostras')\n",
    "plt.show()"
   ]
  },
  {
   "cell_type": "markdown",
   "id": "decomp-section",
   "metadata": {},
   "source": [
    "## 5. Decomposição Sazonal (Período 24h)"
   ]
  },
  {
   "cell_type": "code",
   "execution_count": null,
   "id": "decomp",
   "metadata": {},
   "outputs": [],
   "source": [
    "from statsmodels.tsa.seasonal import seasonal_decompose\n",
    "\n",
    "result = seasonal_decompose(df['ws2m'], model='additive', period=24)\n",
    "result.plot()\n",
    "plt.show()"
   ]
  },
  {
   "cell_type": "markdown",
   "id": "stationarity-section",
   "metadata": {},
   "source": [
    "## 6. Teste de Estacionariedade (ADF)"
   ]
  },
  {
   "cell_type": "code",
   "execution_count": null,
   "id": "adf",
   "metadata": {},
   "outputs": [],
   "source": [
    "from statsmodels.tsa.stattools import adfuller\n",
    "\n",
    "adf_result = adfuller(df['ws2m'].dropna())\n",
    "print(f\"ADF Statistic: {adf_result[0]}\")\n",
    "print(f\"p-value: {adf_result[1]}\")"
   ]
  },
  {
   "cell_type": "markdown",
   "id": "acf-section",
   "metadata": {},
   "source": [
    "## 7. ACF e PACF"
   ]
  },
  {
   "cell_type": "code",
   "execution_count": null,
   "id": "acf",
   "metadata": {},
   "outputs": [],
   "source": [
    "from statsmodels.graphics.tsaplots import plot_acf, plot_pacf\n",
    "\n",
    "plot_acf(df['ws2m'], lags=50)\n",
    "plt.show()\n",
    "\n",
    "plot_pacf(df['ws2m'], lags=50)\n",
    "plt.show()"
   ]
  },
  {
   "cell_type": "markdown",
   "id": "hourly-pattern",
   "metadata": {},
   "source": [
    "## 8. Padrão Horário (Média por Hora do Dia)"
   ]
  },
  {
   "cell_type": "code",
   "execution_count": null,
   "id": "hourly",
   "metadata": {},
   "outputs": [],
   "source": [
    "df_tmp = df.copy()\n",
    "df_tmp['hour'] = df_tmp.index.hour\n",
    "\n",
    "plt.figure(figsize=(10,4))\n",
    "df_tmp.groupby('hour')['ws2m'].mean().plot(kind='bar')\n",
    "plt.title('Velocidade média do vento por hora do dia')\n",
    "plt.xlabel('Hora')\n",
    "plt.ylabel('m/s')\n",
    "plt.tight_layout()\n",
    "plt.show()"
   ]
  },
  {
   "cell_type": "markdown",
   "id": "conclusion",
   "metadata": {},
   "source": [
    "## Conclusão\n",
    "\n",
    "A série apresenta sazonalidade diária bem definida (período de 24 horas). Os testes de estacionariedade e as visualizações ACF/PACF fornecem insights sobre a estrutura temporal dos dados de velocidade do vento."
   ]
  }
 ],
 "metadata": {
  "kernelspec": {
   "display_name": "Python 3",
   "language": "python",
   "name": "python3"
  },
  "language_info": {
   "codemirror_mode": {
    "name": "ipython",
    "version": 3
   },
   "file_extension": ".py",
   "mimetype": "text/x-python",
   "name": "python",
   "nbconvert_exporter": "python",
   "pygments_lexer": "ipython3",
   "version": "3.8.0"
  }
 },
 "nbformat": 4,
 "nbformat_minor": 5
}
