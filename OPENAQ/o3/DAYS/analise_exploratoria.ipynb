{
 "cells": [
  {
   "cell_type": "markdown",
   "id": "cdf50c60",
   "metadata": {},
   "source": [
    "# AED - Análise Exploratória de Dados O₃ (Ozônio) - Diário"
   ]
  },
  {
   "cell_type": "markdown",
   "id": "basic-load",
   "metadata": {},
   "source": [
    "## 1. Carregamento e Preparação dos Dados"
   ]
  },
  {
   "cell_type": "code",
   "execution_count": null,
   "id": "02356b38",
   "metadata": {},
   "outputs": [],
   "source": [
    "import pandas as pd\n",
    "import numpy as np\n",
    "import matplotlib.pyplot as plt\n",
    "\n",
    "df = pd.read_csv(\"la_o3_daily.csv\", parse_dates=[\"timestamp\"])\n",
    "df = df.set_index(\"timestamp\").sort_index()\n",
    "\n",
    "if df.index.tz is not None:\n",
    "    df.index = df.index.tz_localize(None)\n",
    "\n",
    "print(df.head())\n",
    "print(df.tail())\n",
    "print(df.info())"
   ]
  },
  {
   "cell_type": "markdown",
   "id": "period-info",
   "metadata": {},
   "source": [
    "## 2. Informações Básicas da Série"
   ]
  },
  {
   "cell_type": "code",
   "execution_count": null,
   "id": "60a0b89d",
   "metadata": {},
   "outputs": [],
   "source": [
    "print(\"Período de cobertura:\", df.index.min().date(), \"→\", df.index.max().date())\n",
    "print(\"Total de pontos:\", len(df))"
   ]
  },
  {
   "cell_type": "markdown",
   "id": "stats-desc",
   "metadata": {},
   "source": [
    "## 3. Estatísticas Descritivas"
   ]
  },
  {
   "cell_type": "code",
   "execution_count": null,
   "id": "0d6a0923",
   "metadata": {},
   "outputs": [],
   "source": [
    "print(df['o3_ug_m3'].describe())"
   ]
  },
  {
   "cell_type": "markdown",
   "id": "quality-check",
   "metadata": {},
   "source": [
    "## 4. Qualidade dos Dados"
   ]
  },
  {
   "cell_type": "code",
   "execution_count": null,
   "id": "62f4ca62",
   "metadata": {},
   "outputs": [],
   "source": [
    "print(\"Nulos por coluna:\\n\", df.isna().sum())\n",
    "print(\"Duplicatas no índice:\", df.index.duplicated().sum())"
   ]
  },
  {
   "cell_type": "markdown",
   "id": "interval-check",
   "metadata": {},
   "source": [
    "## 5. Análise de Intervalos e Datas Faltantes"
   ]
  },
  {
   "cell_type": "code",
   "execution_count": null,
   "id": "dedbfb34",
   "metadata": {},
   "outputs": [],
   "source": [
    "# Intervalos observados\n",
    "intervalos = df.index.to_series().diff().dropna()\n",
    "print(\"Intervalos mais comuns:\\n\", intervalos.value_counts().head())\n",
    "\n",
    "# Construir grade diária completa e checar datas faltantes\n",
    "full_range = pd.date_range(df.index.min(), df.index.max(), freq='D')\n",
    "missing_dates = full_range.difference(df.index)\n",
    "print(\"Datas faltantes:\", list(missing_dates))\n",
    "\n",
    "# Versão reindexada (opcional) para análises que exigem regularidade\n",
    "df_daily = df.reindex(full_range)\n",
    "df_daily.rename_axis('timestamp', inplace=True)"
   ]
  },
  {
   "cell_type": "markdown",
   "id": "viz-section",
   "metadata": {},
   "source": [
    "## 6. Visualizações Básicas"
   ]
  },
  {
   "cell_type": "code",
   "execution_count": null,
   "id": "d02fda21",
   "metadata": {},
   "outputs": [],
   "source": [
    "plt.figure(figsize=(11,4))\n",
    "plt.plot(df.index, df['o3_ug_m3'], marker='o')\n",
    "plt.title('O₃ diário')\n",
    "plt.xlabel('Data'); plt.ylabel('O₃ (µg/m³)')\n",
    "plt.tight_layout(); plt.show()\n",
    "\n",
    "# Histograma\n",
    "plt.figure(figsize=(6,4))\n",
    "df['o3_ug_m3'].plot(kind='hist', bins=12, title='Distribuição O₃ (diário)')\n",
    "plt.xlabel('O₃ (µg/m³)')\n",
    "plt.tight_layout(); plt.show()\n",
    "\n",
    "# Boxplots por dia da semana\n",
    "by_wd = df.copy()\n",
    "by_wd['weekday'] = by_wd.index.day_name()\n",
    "order = ['Monday','Tuesday','Wednesday','Thursday','Friday','Saturday','Sunday']\n",
    "by_wd['weekday'] = pd.Categorical(by_wd['weekday'], categories=order, ordered=True)\n",
    "\n",
    "plt.figure(figsize=(10,4))\n",
    "by_wd.boxplot(column='o3_ug_m3', by='weekday', grid=False)\n",
    "plt.suptitle('O₃ por dia da semana'); plt.title('')\n",
    "plt.xlabel('Dia da semana'); plt.ylabel('O₃ (µg/m³)')\n",
    "plt.tight_layout(); plt.show()\n",
    "\n",
    "# Médias por dia da semana (barra)\n",
    "plt.figure(figsize=(8,3.5))\n",
    "by_wd.groupby('weekday')['o3_ug_m3'].mean().plot(kind='bar')\n",
    "plt.title('Média de O₃ por dia da semana')\n",
    "plt.ylabel('µg/m³'); plt.xlabel('Dia da semana')\n",
    "plt.tight_layout(); plt.show()"
   ]
  },
  {
   "cell_type": "markdown",
   "id": "rolling-section",
   "metadata": {},
   "source": [
    "## 7. Rolling Statistics"
   ]
  },
  {
   "cell_type": "code",
   "execution_count": null,
   "id": "d9ea33b2",
   "metadata": {},
   "outputs": [],
   "source": [
    "roll = df['o3_ug_m3'].rolling(window=7, min_periods=3)\n",
    "\n",
    "plt.figure(figsize=(11,4))\n",
    "plt.plot(df.index, df['o3_ug_m3'], label='Série', alpha=0.7)\n",
    "plt.plot(roll.mean(), label='Média móvel (7d)')\n",
    "plt.plot(roll.std(), label='Desvio padrão móvel (7d)')\n",
    "plt.legend(); plt.title('Rolling stats (7 dias)')\n",
    "plt.tight_layout(); plt.show()"
   ]
  },
  {
   "cell_type": "markdown",
   "id": "stl-section",
   "metadata": {},
   "source": [
    "## 8. Decomposição STL (Seasonal-Trend decomposition using Loess)"
   ]
  },
  {
   "cell_type": "code",
   "execution_count": null,
   "id": "8b186d6a",
   "metadata": {},
   "outputs": [],
   "source": [
    "from statsmodels.tsa.seasonal import STL\n",
    "\n",
    "# Usar a série reindexada/preenchida para STL caso haja gaps\n",
    "s = df_daily['o3_ug_m3']\n",
    "s_interp = s.interpolate(limit_direction='both')\n",
    "\n",
    "stl = STL(s_interp, period=7, robust=True)\n",
    "res = stl.fit()\n",
    "res.plot()\n",
    "plt.suptitle('STL (period=7, robust=True)')\n",
    "plt.show()\n",
    "\n",
    "# Força sazonal aproximada (Hyndman): 1 - Var(remainder)/Var(seasonal+remainder)\n",
    "seasonal_var = np.var(res.seasonal)\n",
    "remainder_var = np.var(res.resid)\n",
    "seasonality_strength = 1 - (remainder_var / (seasonal_var + remainder_var))\n",
    "print(f\"Força sazonal (aprox): {seasonality_strength:.3f}\")"
   ]
  },
  {
   "cell_type": "markdown",
   "id": "stationarity-section",
   "metadata": {},
   "source": [
    "## 9. Testes de Estacionariedade"
   ]
  },
  {
   "cell_type": "code",
   "execution_count": null,
   "id": "f0ebf89e",
   "metadata": {},
   "outputs": [],
   "source": [
    "from statsmodels.tsa.stattools import adfuller, kpss\n",
    "\n",
    "y = df['o3_ug_m3'].astype(float)\n",
    "\n",
    "# Dickey-Fuller (H0: não-estacionária)\n",
    "adf_stat, adf_p, *_ = adfuller(y.dropna(), autolag='AIC')\n",
    "print(f\"ADF: stat={adf_stat:.3f} | p={adf_p:.4f}  -> p<0.05 sugere estacionária\")\n",
    "\n",
    "# KPSS (H0: estacionária em nível). Pode falhar com amostras pequenas; usar try/except.\n",
    "try:\n",
    "    kpss_stat, kpss_p, *_ = kpss(y.dropna(), regression='c', nlags='auto')\n",
    "    print(f\"KPSS: stat={kpss_stat:.3f} | p={kpss_p:.4f}  -> p<0.05 sugere não-estacionária\")\n",
    "except Exception as e:\n",
    "    print(\"KPSS não pôde ser calculado:\", e)"
   ]
  },
  {
   "cell_type": "markdown",
   "id": "acf-section",
   "metadata": {},
   "source": [
    "## 10. ACF e PACF"
   ]
  },
  {
   "cell_type": "code",
   "execution_count": null,
   "id": "8e8ff8a5",
   "metadata": {},
   "outputs": [],
   "source": [
    "from statsmodels.graphics.tsaplots import plot_acf, plot_pacf\n",
    "\n",
    "plot_acf(y, lags=20)\n",
    "plt.title('ACF (até 20 lags)')\n",
    "plt.show()\n",
    "\n",
    "plot_pacf(y, lags=20, method='ywm')\n",
    "plt.title('PACF (até 20 lags)')\n",
    "plt.show()"
   ]
  },
  {
   "cell_type": "markdown",
   "id": "outliers-section",
   "metadata": {},
   "source": [
    "## 11. Detecção de Outliers"
   ]
  },
  {
   "cell_type": "code",
   "execution_count": null,
   "id": "f1290d1d",
   "metadata": {},
   "outputs": [],
   "source": [
    "# Z-score simples\n",
    "z = (y - y.mean()) / y.std(ddof=0)\n",
    "outliers = y[np.abs(z) > 3]\n",
    "print(\"Outliers (|z|>3):\")\n",
    "print(outliers)\n",
    "\n",
    "# Diferenças absolutas dia-a-dia (para possíveis quebras)\n",
    "diff1 = y.diff().abs()\n",
    "print(\"Top 5 maiores variações diárias:\\n\", diff1.sort_values(ascending=False).head())"
   ]
  },
  {
   "cell_type": "markdown",
   "id": "stl-alt",
   "metadata": {},
   "source": [
    "## 12. STL com período alternativo (30 dias)"
   ]
  },
  {
   "cell_type": "code",
   "execution_count": null,
   "id": "fa914099",
   "metadata": {},
   "outputs": [],
   "source": [
    "stl30 = STL(s_interp, period=30, robust=True).fit()\n",
    "stl30.plot()\n",
    "plt.suptitle('STL (period=30) – inspeção')\n",
    "plt.show()"
   ]
  },
  {
   "cell_type": "markdown",
   "id": "summary-section",
   "metadata": {},
   "source": [
    "## 13. Resumo Consolidado"
   ]
  },
  {
   "cell_type": "code",
   "execution_count": null,
   "id": "2f3b48a4",
   "metadata": {},
   "outputs": [],
   "source": [
    "print(\"Cobertura:\", df.index.min().date(), \"→\", df.index.max().date(), \"| pontos:\", len(df))\n",
    "print(df['o3_ug_m3'].describe())\n",
    "print(\"Nulos:\", df.isna().sum().to_dict(), \"| Duplicatas no índice:\", df.index.duplicated().sum())"
   ]
  },
  {
   "cell_type": "markdown",
   "id": "viz-extended",
   "metadata": {},
   "source": [
    "## 14. Visualizações Adicionais"
   ]
  },
  {
   "cell_type": "code",
   "execution_count": null,
   "id": "951b947f",
   "metadata": {},
   "outputs": [],
   "source": [
    "plt.figure(figsize=(12,4))\n",
    "plt.plot(df.index, df['o3_ug_m3'], lw=1)\n",
    "plt.title(\"O₃ diário (série completa)\")\n",
    "plt.xlabel(\"Data\"); plt.ylabel(\"µg/m³\")\n",
    "plt.tight_layout(); plt.show()\n",
    "\n",
    "# Rolling de 7 e 30 dias\n",
    "roll7 = df['o3_ug_m3'].rolling(7)\n",
    "roll30 = df['o3_ug_m3'].rolling(30)\n",
    "\n",
    "plt.figure(figsize=(12,4))\n",
    "plt.plot(df.index, df['o3_ug_m3'], alpha=.6, label='Série')\n",
    "plt.plot(roll7.mean(), label='Média móvel 7d')\n",
    "plt.plot(roll30.mean(), label='Média móvel 30d')\n",
    "plt.legend(); plt.title(\"Médias móveis\")\n",
    "plt.tight_layout(); plt.show()\n",
    "\n",
    "plt.figure(figsize=(12,4))\n",
    "plt.plot(roll7.std(), label='Desvio padrão 7d')\n",
    "plt.plot(roll30.std(), label='Desvio padrão 30d')\n",
    "plt.legend(); plt.title(\"Heterocedasticidade (rolling std)\")\n",
    "plt.tight_layout(); plt.show()"
   ]
  },
  {
   "cell_type": "markdown",
   "id": "seasonal-patterns",
   "metadata": {},
   "source": [
    "## 15. Padrões Sazonais (Dia da Semana e Mês)"
   ]
  },
  {
   "cell_type": "code",
   "execution_count": null,
   "id": "a02e7d20",
   "metadata": {},
   "outputs": [],
   "source": [
    "tmp = df.copy()\n",
    "tmp['weekday'] = tmp.index.day_name()\n",
    "tmp['month'] = tmp.index.month_name()\n",
    "\n",
    "order_wd = ['Monday','Tuesday','Wednesday','Thursday','Friday','Saturday','Sunday']\n",
    "tmp['weekday'] = pd.Categorical(tmp['weekday'], categories=order_wd, ordered=True)\n",
    "\n",
    "plt.figure(figsize=(10,3.6))\n",
    "tmp.groupby('weekday')['o3_ug_m3'].mean().plot(kind='bar')\n",
    "plt.title('Média por dia da semana'); plt.ylabel('µg/m³'); plt.tight_layout(); plt.show()\n",
    "\n",
    "plt.figure(figsize=(10,3.6))\n",
    "(tmp.groupby(tmp.index.month)['o3_ug_m3'].mean()\n",
    " .rename(index={1:'Jan',2:'Fev',3:'Mar',4:'Abr',5:'Mai',6:'Jun',7:'Jul',8:'Ago',9:'Set',10:'Out',11:'Nov',12:'Dez'})\n",
    " .plot(kind='bar'))\n",
    "plt.title('Média por mês'); plt.ylabel('µg/m³'); plt.tight_layout(); plt.show()"
   ]
  },
  {
   "cell_type": "markdown",
   "id": "multi-stl",
   "metadata": {},
   "source": [
    "## 16. Decomposição STL Multi-nível (Semanal + Anual)"
   ]
  },
  {
   "cell_type": "code",
   "execution_count": null,
   "id": "d748ac12",
   "metadata": {},
   "outputs": [],
   "source": [
    "from statsmodels.tsa.seasonal import STL\n",
    "\n",
    "y = df['o3_ug_m3'].astype(float)\n",
    "\n",
    "stl7 = STL(y, period=7, robust=True).fit()\n",
    "stl365 = STL(y - stl7.seasonal, period=365, robust=True).fit()  # remove semanal e decompõe anual no restante\n",
    "\n",
    "stl7.plot(); plt.suptitle('STL semanal (p=7)'); plt.show()\n",
    "stl365.plot(); plt.suptitle('STL anual (p=365) no restante'); plt.show()"
   ]
  }
 ],
 "metadata": {
  "kernelspec": {
   "display_name": "Python 3",
   "language": "python",
   "name": "python3"
  },
  "language_info": {
   "codemirror_mode": {
    "name": "ipython",
    "version": 3
   },
   "file_extension": ".py",
   "mimetype": "text/x-python",
   "name": "python",
   "nbconvert_exporter": "python",
   "pygments_lexer": "ipython3",
   "version": "3.8.0"
  }
 },
 "nbformat": 4,
 "nbformat_minor": 5
}
