{
 "cells": [
  {
   "cell_type": "markdown",
   "id": "header",
   "metadata": {},
   "source": [
    "# AED - Análise Exploratória de Dados O₃ (Ozônio) - Horário"
   ]
  },
  {
   "cell_type": "markdown",
   "id": "load-section",
   "metadata": {},
   "source": [
    "## 1. Carregamento e Preparação dos Dados"
   ]
  },
  {
   "cell_type": "code",
   "execution_count": null,
   "id": "c2f5b680",
   "metadata": {},
   "outputs": [],
   "source": [
    "import pandas as pd\n",
    "\n",
    "df = pd.read_csv(\"la_o3_1000points.csv\")\n",
    "df.head()"
   ]
  },
  {
   "cell_type": "code",
   "execution_count": null,
   "id": "a8b60740",
   "metadata": {},
   "outputs": [],
   "source": [
    "df['timestamp'] = pd.to_datetime(df['timestamp'])\n",
    "\n",
    "df = df.set_index('timestamp')\n",
    "df.info()\n",
    "df.head()"
   ]
  },
  {
   "cell_type": "markdown",
   "id": "viz-basic",
   "metadata": {},
   "source": [
    "## 2. Visualização Temporal"
   ]
  },
  {
   "cell_type": "code",
   "execution_count": null,
   "id": "8266ada2",
   "metadata": {},
   "outputs": [],
   "source": [
    "import matplotlib.pyplot as plt\n",
    "\n",
    "plt.figure(figsize=(12, 4))\n",
    "plt.plot(df.index, df['o3_ug_m3'])\n",
    "plt.title('Concentração de O₃ ao longo do tempo')\n",
    "plt.xlabel('Data')\n",
    "plt.ylabel('O₃ (µg/m³)')\n",
    "plt.show()"
   ]
  },
  {
   "cell_type": "markdown",
   "id": "stats-section",
   "metadata": {},
   "source": [
    "## 3. Estatísticas Descritivas e Qualidade dos Dados"
   ]
  },
  {
   "cell_type": "code",
   "execution_count": null,
   "id": "23b9c962",
   "metadata": {},
   "outputs": [],
   "source": [
    "print(df['o3_ug_m3'].describe())\n",
    "\n",
    "print(df.isna().sum())"
   ]
  },
  {
   "cell_type": "markdown",
   "id": "interval-section",
   "metadata": {},
   "source": [
    "## 4. Análise de Intervalos entre Observações"
   ]
  },
  {
   "cell_type": "code",
   "execution_count": null,
   "id": "b4b3d23e",
   "metadata": {},
   "outputs": [],
   "source": [
    "intervalos = df.index.to_series().diff().dropna()\n",
    "print(intervalos.value_counts().head())\n",
    "\n",
    "intervalos.dt.total_seconds().plot(kind='hist', bins=20, title='Distribuição dos intervalos entre amostras')\n",
    "plt.show()"
   ]
  },
  {
   "cell_type": "markdown",
   "id": "decomp-section",
   "metadata": {},
   "source": [
    "## 5. Decomposição Sazonal"
   ]
  },
  {
   "cell_type": "code",
   "execution_count": null,
   "id": "39d6e4fc",
   "metadata": {},
   "outputs": [],
   "source": [
    "from statsmodels.tsa.seasonal import seasonal_decompose\n",
    "\n",
    "result = seasonal_decompose(df['o3_ug_m3'], model='additive', period=24)\n",
    "result.plot()\n",
    "plt.show()"
   ]
  },
  {
   "cell_type": "markdown",
   "id": "stationarity-section",
   "metadata": {},
   "source": [
    "## 6. Teste de Estacionariedade (ADF)"
   ]
  },
  {
   "cell_type": "code",
   "execution_count": null,
   "id": "735ae25d",
   "metadata": {},
   "outputs": [],
   "source": [
    "from statsmodels.tsa.stattools import adfuller\n",
    "\n",
    "adf_result = adfuller(df['o3_ug_m3'])\n",
    "print(f\"ADF Statistic: {adf_result[0]}\")\n",
    "print(f\"p-value: {adf_result[1]}\")"
   ]
  },
  {
   "cell_type": "markdown",
   "id": "acf-section",
   "metadata": {},
   "source": [
    "## 7. ACF e PACF"
   ]
  },
  {
   "cell_type": "code",
   "execution_count": null,
   "id": "165c1e7a",
   "metadata": {},
   "outputs": [],
   "source": [
    "from statsmodels.graphics.tsaplots import plot_acf, plot_pacf\n",
    "\n",
    "plot_acf(df['o3_ug_m3'], lags=50)\n",
    "plt.show()\n",
    "\n",
    "plot_pacf(df['o3_ug_m3'], lags=50)\n",
    "plt.show()"
   ]
  },
  {
   "cell_type": "markdown",
   "id": "conclusion",
   "metadata": {},
   "source": [
    "## Conclusão\n",
    "\n",
    "A série apresenta sazonalidade diária bem definida (período de 24 horas). Os testes de estacionariedade e as visualizações ACF/PACF fornecem insights sobre a estrutura temporal dos dados de O₃."
   ]
  }
 ],
 "metadata": {
  "kernelspec": {
   "display_name": "Python 3",
   "language": "python",
   "name": "python3"
  },
  "language_info": {
   "codemirror_mode": {
    "name": "ipython",
    "version": 3
   },
   "file_extension": ".py",
   "mimetype": "text/x-python",
   "name": "python",
   "nbconvert_exporter": "python",
   "pygments_lexer": "ipython3",
   "version": "3.8.0"
  }
 },
 "nbformat": 4,
 "nbformat_minor": 5
}
