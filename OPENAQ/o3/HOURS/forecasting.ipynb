{
 "cells": [
  {
   "cell_type": "markdown",
   "id": "header",
   "metadata": {},
   "source": [
    "# Forecasting O₃ (Ozônio) - Horário\n",
    "## Preparação dos Dados"
   ]
  },
  {
   "cell_type": "code",
   "execution_count": null,
   "id": "prep",
   "metadata": {},
   "outputs": [],
   "source": [
    "import pandas as pd\n",
    "import numpy as np\n",
    "import matplotlib.pyplot as plt\n",
    "from sklearn.metrics import mean_absolute_error, mean_squared_error\n",
    "\n",
    "df = pd.read_csv(\"la_o3_1000points.csv\", parse_dates=['timestamp'])\n",
    "df = df.set_index('timestamp')\n",
    "\n",
    "train = df.iloc[:-48]\n",
    "test = df.iloc[-48:]\n",
    "\n",
    "print(f\"Tamanho treino: {len(train)} | Tamanho teste: {len(test)}\")"
   ]
  },
  {
   "cell_type": "markdown",
   "id": "sarima-header",
   "metadata": {},
   "source": [
    "## SARIMA"
   ]
  },
  {
   "cell_type": "code",
   "execution_count": null,
   "id": "sarima",
   "metadata": {},
   "outputs": [],
   "source": [
    "import warnings\n",
    "warnings.filterwarnings(\"ignore\")\n",
    "from statsmodels.tsa.statespace.sarimax import SARIMAX\n",
    "\n",
    "model_sarima = SARIMAX(train['o3_ug_m3'],\n",
    "                       order=(1,1,1),\n",
    "                       seasonal_order=(1,1,1,24),\n",
    "                       enforce_stationarity=False,\n",
    "                       enforce_invertibility=False)\n",
    "sarima_fit = model_sarima.fit(disp=False)\n",
    "\n",
    "sarima_pred = sarima_fit.forecast(steps=48)\n",
    "plt.plot(test.index, test['o3_ug_m3'], label='Real')\n",
    "plt.plot(test.index, sarima_pred, label='SARIMA')\n",
    "plt.legend()\n",
    "plt.title('Previsão SARIMA - O₃')\n",
    "plt.show()\n",
    "\n",
    "sarima_mae = mean_absolute_error(test['o3_ug_m3'], sarima_pred)\n",
    "sarima_rmse = np.sqrt(mean_squared_error(test['o3_ug_m3'], sarima_pred))\n",
    "print(f\"SARIMA -> MAE: {sarima_mae:.2f} | RMSE: {sarima_rmse:.2f}\")"
   ]
  },
  {
   "cell_type": "markdown",
   "id": "hw-header",
   "metadata": {},
   "source": [
    "## Holt-Winters"
   ]
  },
  {
   "cell_type": "code",
   "execution_count": null,
   "id": "hw",
   "metadata": {},
   "outputs": [],
   "source": [
    "from statsmodels.tsa.holtwinters import ExponentialSmoothing\n",
    "\n",
    "model_hw = ExponentialSmoothing(train['o3_ug_m3'],\n",
    "                                trend='add',\n",
    "                                seasonal='add',\n",
    "                                seasonal_periods=24)\n",
    "hw_fit = model_hw.fit()\n",
    "hw_pred = hw_fit.forecast(48)\n",
    "\n",
    "plt.plot(test.index, test['o3_ug_m3'], label='Real')\n",
    "plt.plot(test.index, hw_pred, label='Holt-Winters')\n",
    "plt.legend()\n",
    "plt.title('Previsão Holt-Winters - O₃')\n",
    "plt.show()\n",
    "\n",
    "hw_mae = mean_absolute_error(test['o3_ug_m3'], hw_pred)\n",
    "hw_rmse = np.sqrt(mean_squared_error(test['o3_ug_m3'], hw_pred))\n",
    "print(f\"Holt-Winters -> MAE: {hw_mae:.2f} | RMSE: {hw_rmse:.2f}\")"
   ]
  },
  {
   "cell_type": "markdown",
   "id": "prophet-header",
   "metadata": {},
   "source": [
    "## Prophet"
   ]
  },
  {
   "cell_type": "code",
   "execution_count": null,
   "id": "prophet",
   "metadata": {},
   "outputs": [],
   "source": [
    "from prophet import Prophet\n",
    "\n",
    "train_no_tz = train.copy()\n",
    "train_no_tz.index = train_no_tz.index.tz_localize(None)\n",
    "\n",
    "test_no_tz = test.copy()\n",
    "test_no_tz.index = test_no_tz.index.tz_localize(None)\n",
    "\n",
    "df_prophet = train_no_tz.reset_index().rename(columns={'timestamp': 'ds', 'o3_ug_m3': 'y'})\n",
    "\n",
    "model_prophet = Prophet(daily_seasonality=True, weekly_seasonality=True)\n",
    "model_prophet.fit(df_prophet)\n",
    "\n",
    "future = pd.DataFrame({'ds': test_no_tz.index})\n",
    "forecast = model_prophet.predict(future)\n",
    "\n",
    "plt.figure(figsize=(10,4))\n",
    "plt.plot(test_no_tz.index, test_no_tz['o3_ug_m3'], label='Real')\n",
    "plt.plot(test_no_tz.index, forecast['yhat'], label='Prophet')\n",
    "plt.legend()\n",
    "plt.title('Previsão Prophet - O₃')\n",
    "plt.show()\n",
    "\n",
    "prophet_mae = mean_absolute_error(test_no_tz['o3_ug_m3'], forecast['yhat'])\n",
    "prophet_rmse = np.sqrt(mean_squared_error(test_no_tz['o3_ug_m3'], forecast['yhat']))\n",
    "print(f\"Prophet -> MAE: {prophet_mae:.2f} | RMSE: {prophet_rmse:.2f}\")"
   ]
  },
  {
   "cell_type": "markdown",
   "id": "rf-header",
   "metadata": {},
   "source": [
    "## Random Forest"
   ]
  },
  {
   "cell_type": "code",
   "execution_count": null,
   "id": "rf",
   "metadata": {},
   "outputs": [],
   "source": [
    "from sklearn.ensemble import RandomForestRegressor\n",
    "from sklearn.preprocessing import StandardScaler\n",
    "\n",
    "def create_lag_features(data, lags=24):\n",
    "    df_lag = data.copy()\n",
    "    for lag in range(1, lags+1):\n",
    "        df_lag[f'lag_{lag}'] = df_lag['o3_ug_m3'].shift(lag)\n",
    "    df_lag = df_lag.dropna()\n",
    "    return df_lag\n",
    "\n",
    "df_lag = create_lag_features(df)\n",
    "train_lag = df_lag.iloc[:-48]\n",
    "test_lag = df_lag.iloc[-48:]\n",
    "\n",
    "X_train = train_lag.drop('o3_ug_m3', axis=1)\n",
    "y_train = train_lag['o3_ug_m3']\n",
    "X_test = test_lag.drop('o3_ug_m3', axis=1)\n",
    "y_test = test_lag['o3_ug_m3']\n",
    "\n",
    "scaler = StandardScaler()\n",
    "X_train_scaled = scaler.fit_transform(X_train)\n",
    "X_test_scaled = scaler.transform(X_test)\n",
    "\n",
    "rf = RandomForestRegressor(n_estimators=200, random_state=42)\n",
    "rf.fit(X_train_scaled, y_train)\n",
    "rf_pred = rf.predict(X_test_scaled)\n",
    "\n",
    "plt.plot(test.index, y_test, label='Real')\n",
    "plt.plot(test.index, rf_pred, label='Random Forest')\n",
    "plt.legend()\n",
    "plt.title('Previsão Random Forest - O₃')\n",
    "plt.show()\n",
    "\n",
    "rf_mae = mean_absolute_error(y_test, rf_pred)\n",
    "rf_rmse = np.sqrt(mean_squared_error(y_test, rf_pred))\n",
    "print(f\"Random Forest -> MAE: {rf_mae:.2f} | RMSE: {rf_rmse:.2f}\")"
   ]
  },
  {
   "cell_type": "markdown",
   "id": "compare-header",
   "metadata": {},
   "source": [
    "## Comparação de Modelos"
   ]
  },
  {
   "cell_type": "code",
   "execution_count": null,
   "id": "compare",
   "metadata": {},
   "outputs": [],
   "source": [
    "results = pd.DataFrame({\n",
    "    'Modelo': ['SARIMA', 'Holt-Winters', 'Prophet', 'Random Forest'],\n",
    "    'MAE': [sarima_mae, hw_mae, prophet_mae, rf_mae],\n",
    "    'RMSE': [sarima_rmse, hw_rmse, prophet_rmse, rf_rmse]\n",
    "})\n",
    "print(results.sort_values('RMSE'))"
   ]
  },
  {
   "cell_type": "markdown",
   "id": "train-final",
   "metadata": {},
   "source": [
    "## Treinar Modelo Final (Random Forest) em Todo o Dataset"
   ]
  },
  {
   "cell_type": "code",
   "execution_count": null,
   "id": "final-train",
   "metadata": {},
   "outputs": [],
   "source": [
    "import joblib\n",
    "from sklearn.pipeline import Pipeline\n",
    "\n",
    "LAGS = 24\n",
    "MODEL_PATH = \"rf_o3_pipeline.joblib\"\n",
    "\n",
    "def create_lag_features(series: pd.Series, lags: int = LAGS) -> pd.DataFrame:\n",
    "    df_lag = pd.DataFrame({\"o3_ug_m3\": series})\n",
    "    for lag in range(1, lags + 1):\n",
    "        df_lag[f\"lag_{lag}\"] = df_lag[\"o3_ug_m3\"].shift(lag)\n",
    "    return df_lag.dropna()\n",
    "\n",
    "df = pd.read_csv(\"la_o3_1000points.csv\", parse_dates=[\"timestamp\"])\n",
    "df = df.set_index(\"timestamp\").sort_index()\n",
    "\n",
    "if df.index.tz is not None:\n",
    "    df.index = df.index.tz_localize(None)\n",
    "\n",
    "df_lag = create_lag_features(df[\"o3_ug_m3\"], lags=LAGS)\n",
    "X = df_lag.drop(columns=[\"o3_ug_m3\"]).values\n",
    "y = df_lag[\"o3_ug_m3\"].values\n",
    "\n",
    "pipe = Pipeline([\n",
    "    (\"scaler\", StandardScaler()),\n",
    "    (\"rf\", RandomForestRegressor(n_estimators=300, random_state=42, n_jobs=-1))\n",
    "])\n",
    "pipe.fit(X, y)\n",
    "\n",
    "joblib.dump(pipe, MODEL_PATH)\n",
    "print(f\"Modelo salvo em: {MODEL_PATH} (treinado com {len(y)} amostras)\")"
   ]
  },
  {
   "cell_type": "markdown",
   "id": "predict-header",
   "metadata": {},
   "source": [
    "## Função de Previsão para Próximas 24 Horas"
   ]
  },
  {
   "cell_type": "code",
   "execution_count": null,
   "id": "predict-func",
   "metadata": {},
   "outputs": [],
   "source": [
    "import io\n",
    "\n",
    "LAGS = 24\n",
    "MODEL_PATH = \"rf_o3_pipeline.joblib\"\n",
    "\n",
    "def _load_csv(csv_input):\n",
    "    if isinstance(csv_input, str) and \"\\n\" in csv_input:\n",
    "        df = pd.read_csv(io.StringIO(csv_input), parse_dates=[\"timestamp\"])\n",
    "    else:\n",
    "        df = pd.read_csv(csv_input, parse_dates=[\"timestamp\"])\n",
    "    df = df.set_index(\"timestamp\").sort_index()\n",
    "    if df.index.tz is not None:\n",
    "        df.index = df.index.tz_localize(None)\n",
    "    return df\n",
    "\n",
    "def predict_next_24_from_csv(csv_input, model_path: str = MODEL_PATH, decimals: int = 2):\n",
    "    df = _load_csv(csv_input)\n",
    "    series = df[\"o3_ug_m3\"].astype(float).copy()\n",
    "\n",
    "    if len(series) < LAGS:\n",
    "        raise ValueError(f\"São necessários pelo menos {LAGS} pontos para iniciar a previsão.\")\n",
    "\n",
    "    pipe = joblib.load(model_path)\n",
    "\n",
    "    window = list(series.iloc[-LAGS:].values)\n",
    "    preds = []\n",
    "\n",
    "    for _ in range(24):\n",
    "        features = np.array(window[::-1])\n",
    "        features = features.reshape(1, -1)\n",
    "        y_hat = float(pipe.predict(features)[0])\n",
    "        preds.append(y_hat)\n",
    "\n",
    "        window.append(y_hat)\n",
    "        window = window[-LAGS:]\n",
    "\n",
    "    fmt = f\"{{:.{decimals}f}}\"\n",
    "    out = \",\".join(fmt.format(v) for v in preds)\n",
    "    return out"
   ]
  },
  {
   "cell_type": "code",
   "execution_count": null,
   "id": "test-predict",
   "metadata": {},
   "outputs": [],
   "source": [
    "preds_str = predict_next_24_from_csv(\"la_o3_1000points.csv\")\n",
    "print(preds_str)"
   ]
  }
 ],
 "metadata": {
  "kernelspec": {
   "display_name": "Python 3",
   "language": "python",
   "name": "python3"
  },
  "language_info": {
   "name": "python",
   "version": "3.8.0"
  }
 },
 "nbformat": 4,
 "nbformat_minor": 5
}
